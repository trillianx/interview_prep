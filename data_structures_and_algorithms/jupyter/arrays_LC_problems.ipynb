{
 "cells": [
  {
   "cell_type": "markdown",
   "metadata": {},
   "source": [
    "# Arrays Problems from LeetCode"
   ]
  },
  {
   "cell_type": "markdown",
   "metadata": {},
   "source": [
    "## Problem 1: 1086 High Five"
   ]
  },
  {
   "cell_type": "markdown",
   "metadata": {},
   "source": [
    "Given a list of scores of different students, return the average score of each student's top five scores in the order of each student's id.\n",
    "\n",
    "Each entry items[i] has items[i][0] the student's id, and items[i][1] the student's score.  The average score is calculated using integer division.\n",
    "\n",
    " \n",
    "\n",
    "Example 1:\n",
    "\n",
    "```python\n",
    "Input: [[1,91],[1,92],[2,93],[2,97],[1,60],[2,77],[1,65],[1,87],[1,100],[2,100],[2,76]]\n",
    "Output: [[1,87],[2,88]]\n",
    "Explanation: \n",
    "The average of the student with id = 1 is 87.\n",
    "The average of the student with id = 2 is 88.6. But with integer division their average converts to 88.\n",
    "```\n",
    "\n",
    "Note:\n",
    "\n",
    "* 1 <= items.length <= 1000\n",
    "* items[i].length == 2\n",
    "* The IDs of the students is between 1 to 1000\n",
    "* The score of the students is between 1 to 100\n",
    "* For each student, there are at least 5 scores"
   ]
  },
  {
   "cell_type": "code",
   "execution_count": 138,
   "metadata": {
    "ExecuteTime": {
     "end_time": "2019-09-30T04:34:55.947291Z",
     "start_time": "2019-09-30T04:34:55.943123Z"
    }
   },
   "outputs": [],
   "source": [
    "def compute_scores(items):\n",
    "    score_table = {}\n",
    "    finals = []\n",
    "    for item in items:\n",
    "        if item[0] in score_table:\n",
    "            score_table[item[0]].append(item[1])\n",
    "        else:\n",
    "            score_table[item[0]] = [item[1]]\n",
    "    for i in score_table.keys():\n",
    "        score_table[i].sort()\n",
    "        final_score = score_table[i][::-1][:5]\n",
    "        finals.append([i, sum(final_score) // 5])\n",
    "    return finals"
   ]
  },
  {
   "cell_type": "code",
   "execution_count": null,
   "metadata": {},
   "outputs": [],
   "source": []
  }
 ],
 "metadata": {
  "hide_input": false,
  "kernelspec": {
   "display_name": "Python 3",
   "language": "python",
   "name": "python3"
  },
  "language_info": {
   "codemirror_mode": {
    "name": "ipython",
    "version": 3
   },
   "file_extension": ".py",
   "mimetype": "text/x-python",
   "name": "python",
   "nbconvert_exporter": "python",
   "pygments_lexer": "ipython3",
   "version": "3.7.4"
  },
  "toc": {
   "base_numbering": 1,
   "nav_menu": {},
   "number_sections": true,
   "sideBar": true,
   "skip_h1_title": false,
   "title_cell": "Table of Contents",
   "title_sidebar": "Contents",
   "toc_cell": false,
   "toc_position": {},
   "toc_section_display": true,
   "toc_window_display": false
  }
 },
 "nbformat": 4,
 "nbformat_minor": 2
}
